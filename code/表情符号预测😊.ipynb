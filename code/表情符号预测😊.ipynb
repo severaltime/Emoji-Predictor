{
 "cells": [
  {
   "cell_type": "markdown",
   "metadata": {},
   "source": [
    "# 基于文本的表情符号预测模型😊😊😊\n",
    "### 数据支持：golve.6B.300d.txt  (下载链接https://nlp.stanford.edu/projects/glove/）\n",
    "### 训练集文件：train_emoji.csv 测试集文件：test_emoji.csv\n",
    "### 模型使用：LSTM神经网络 GRU神经网络\n",
    "### 项目时间：2020年4月25日"
   ]
  },
  {
   "cell_type": "markdown",
   "metadata": {},
   "source": [
    "## Part 1 导入emoji库(下载及安装pip3 install emoji)+部分emoji可视化"
   ]
  },
  {
   "cell_type": "code",
   "execution_count": 1,
   "metadata": {},
   "outputs": [
    {
     "name": "stdout",
     "output_type": "stream",
     "text": [
      "🧡\n",
      "⚾\n",
      "😃\n",
      "😓\n",
      "🍴\n"
     ]
    }
   ],
   "source": [
    "import emoji\n",
    "\n",
    "# 定义表情词典库\n",
    "emoji_dic = {0:':orange_heart:',1:':baseball:',2:':grinning_face_with_big_eyes:', \n",
    "             3:':downcast_face_with_sweat:',4:':fork_and_knife:'}\n",
    "\n",
    "# 通过emoji库输出表情符号\n",
    "for tmp in emoji_dic.values():\n",
    "    print(emoji.emojize(tmp))"
   ]
  },
  {
   "cell_type": "markdown",
   "metadata": {},
   "source": [
    "## Part 2 载入训练集和测试集，对数据进行预处理"
   ]
  },
  {
   "cell_type": "code",
   "execution_count": 2,
   "metadata": {},
   "outputs": [
    {
     "name": "stdout",
     "output_type": "stream",
     "text": [
      "载入数据完毕，训练集数据长度:132,测试集数据长度:56\n"
     ]
    }
   ],
   "source": [
    "import pandas as pd\n",
    "import numpy as np\n",
    "\n",
    "train_data = pd.read_csv('train_emoji.csv', header=None)\n",
    "test_data = pd.read_csv('test_emoji.csv', header=None)\n",
    "print('载入数据完毕，训练集数据长度:{},测试集数据长度:{}'.format(train_data.shape[0], test_data.shape[0]))"
   ]
  },
  {
   "cell_type": "code",
   "execution_count": 3,
   "metadata": {},
   "outputs": [
    {
     "name": "stdout",
     "output_type": "stream",
     "text": [
      "never talk to me again 😓\n",
      "I am proud of your achievements 😃\n",
      "It is the worst day in my life 😓\n",
      "Miss you so much 🧡\n",
      "food is life 🍴\n",
      "I love you mum 🧡\n",
      "Stop saying bullshit 😓\n",
      "congratulations on your acceptance 😃\n",
      "The assignment is too long  😓\n",
      "I want to go play ⚾\n"
     ]
    }
   ],
   "source": [
    "# 将训练集和测试集数据按照特征和标签进行划分\n",
    "train_X = train_data[0]\n",
    "train_y = train_data[1]\n",
    "test_X = test_data[0]\n",
    "test_y = test_data[1]\n",
    "\n",
    "# 以测试集为例抽取前10个样本进行print\n",
    "for i in range(10):\n",
    "    print(train_X[i], emoji.emojize(emoji_dic[train_y[i]]))"
   ]
  },
  {
   "cell_type": "code",
   "execution_count": 4,
   "metadata": {},
   "outputs": [
    {
     "name": "stdout",
     "output_type": "stream",
     "text": [
      "加载词向量完毕，词向量库长度为:400000\n"
     ]
    }
   ],
   "source": [
    "# 加载训练好的词向量文件glove.6B.50d\n",
    "word_embed = dict()\n",
    "for line in open('/Users/xujie/Desktop/Python/nlp/data/word_embeding/glove.6B.300d.txt'):\n",
    "    line = line.split()\n",
    "    word = line[0]\n",
    "    embed_vec = line[1:]\n",
    "    word_embed[word] = list(map(float, embed_vec))\n",
    "print('加载词向量完毕，词向量库长度为:{}'.format(len(word_embed)))"
   ]
  },
  {
   "cell_type": "code",
   "execution_count": 5,
   "metadata": {},
   "outputs": [],
   "source": [
    "# 将训练集和测试集的train_X和test_X转化为词向量形式\n",
    "dim_embed = 300 # 定义词向量维度\n",
    "max_sent_len = 10 # 定义最大单词长度\n",
    "\n",
    "# 定义转化函数convert2embed()\n",
    "def convert2embed(obj_data):\n",
    "    out_embed = np.zeros((obj_data.shape[0], max_sent_len, dim_embed))\n",
    "    for i, line in enumerate(obj_data):\n",
    "        line = line.split()\n",
    "        for j, word in enumerate(line):\n",
    "            if word.lower() not in word_embed.keys(): continue\n",
    "            out_embed[i][j] = word_embed[word.lower()]\n",
    "    return out_embed"
   ]
  },
  {
   "cell_type": "code",
   "execution_count": 6,
   "metadata": {},
   "outputs": [],
   "source": [
    "# 结构化训练集和测试集数据(将特征X转化为词向量，将标签y转化为one-hot编码)\n",
    "import tensorflow as tf\n",
    "train_embed = tf.constant(convert2embed(train_X))\n",
    "test_embed = tf.constant(convert2embed(test_X))\n",
    "train_y_one_hot = tf.one_hot(train_y, depth=5)\n",
    "test_y_one_hot = tf.one_hot(test_y, depth=5)"
   ]
  },
  {
   "cell_type": "markdown",
   "metadata": {},
   "source": [
    "## Part 3 搭建深度神经网络框架"
   ]
  },
  {
   "cell_type": "code",
   "execution_count": 7,
   "metadata": {},
   "outputs": [],
   "source": [
    "from tensorflow.keras import layers, Sequential, optimizers, losses"
   ]
  },
  {
   "cell_type": "code",
   "execution_count": 22,
   "metadata": {},
   "outputs": [
    {
     "name": "stdout",
     "output_type": "stream",
     "text": [
      "Model: \"sequential_2\"\n",
      "_________________________________________________________________\n",
      "Layer (type)                 Output Shape              Param #   \n",
      "=================================================================\n",
      "lstm_2 (LSTM)                (None, 10, 64)            93440     \n",
      "_________________________________________________________________\n",
      "dropout_4 (Dropout)          (None, 10, 64)            0         \n",
      "_________________________________________________________________\n",
      "lstm_3 (LSTM)                (None, 64)                33024     \n",
      "_________________________________________________________________\n",
      "dropout_5 (Dropout)          (None, 64)                0         \n",
      "_________________________________________________________________\n",
      "dense_2 (Dense)              (None, 5)                 325       \n",
      "=================================================================\n",
      "Total params: 126,789\n",
      "Trainable params: 126,789\n",
      "Non-trainable params: 0\n",
      "_________________________________________________________________\n"
     ]
    }
   ],
   "source": [
    "# 实例化LSTM深度网络\n",
    "model_LSTM = Sequential()\n",
    "# 加入第一个LSTM层 输入维度max_sent_len * dim_embed\n",
    "model_LSTM.add(layers.LSTM(64, input_shape=(max_sent_len,dim_embed), return_sequences=True))\n",
    "# 随机失活防止过拟合 参数=0.4\n",
    "model_LSTM.add(layers.Dropout(0.4))\n",
    "# 加入第二个LSTM层\n",
    "model_LSTM.add(layers.LSTM(64, return_sequences=False))\n",
    "# 随机失活防止过拟合 参数=0.3\n",
    "model_LSTM.add(layers.Dropout(0.4))\n",
    "# 最后加入全连接层，用softmax激活函数输出\n",
    "model_LSTM.add(layers.Dense(5, activation='softmax'))\n",
    "# 编译模型: 优化器 Adam; 损失函数 交叉熵损失; 优化准则 精确度\n",
    "model_LSTM.compile(optimizer=optimizers.Adam(lr=0.01), \n",
    "              loss=losses.CategoricalCrossentropy(from_logits=True),\n",
    "              metrics=['accuracy'])\n",
    "# 输出网络结构\n",
    "model_LSTM.summary()"
   ]
  },
  {
   "cell_type": "code",
   "execution_count": 23,
   "metadata": {},
   "outputs": [
    {
     "name": "stdout",
     "output_type": "stream",
     "text": [
      "Model: \"sequential_3\"\n",
      "_________________________________________________________________\n",
      "Layer (type)                 Output Shape              Param #   \n",
      "=================================================================\n",
      "gru_2 (GRU)                  (None, 10, 64)            70272     \n",
      "_________________________________________________________________\n",
      "dropout_6 (Dropout)          (None, 10, 64)            0         \n",
      "_________________________________________________________________\n",
      "gru_3 (GRU)                  (None, 64)                24960     \n",
      "_________________________________________________________________\n",
      "dropout_7 (Dropout)          (None, 64)                0         \n",
      "_________________________________________________________________\n",
      "dense_3 (Dense)              (None, 5)                 325       \n",
      "=================================================================\n",
      "Total params: 95,557\n",
      "Trainable params: 95,557\n",
      "Non-trainable params: 0\n",
      "_________________________________________________________________\n"
     ]
    }
   ],
   "source": [
    "# 实例化GRU深度网络\n",
    "model_GRU = Sequential()\n",
    "# 加入第一个GRU层 输入维度max_sent_len * dim_embed\n",
    "model_GRU.add(layers.GRU(64, input_shape=(max_sent_len,dim_embed), return_sequences=True))\n",
    "# 随机失活防止过拟合 参数=0.4\n",
    "model_GRU.add(layers.Dropout(0.4))\n",
    "# 加入第二个GRU层\n",
    "model_GRU.add(layers.GRU(64, return_sequences=False))\n",
    "# 随机失活防止过拟合 参数=0.3\n",
    "model_GRU.add(layers.Dropout(0.4))\n",
    "# 最后加入全连接层，用softmax激活函数输出\n",
    "model_GRU.add(layers.Dense(5, activation='softmax'))\n",
    "# 编译模型: 优化器 Adam; 损失函数 交叉熵损失; 优化准则 精确度\n",
    "model_GRU.compile(optimizer=optimizers.Adam(lr=0.01), \n",
    "              loss=losses.CategoricalCrossentropy(from_logits=True),\n",
    "              metrics=['accuracy'])\n",
    "# 输出网络结构\n",
    "model_GRU.summary()"
   ]
  },
  {
   "cell_type": "markdown",
   "metadata": {},
   "source": [
    "## Part 4 模型预测与评估 "
   ]
  },
  {
   "cell_type": "code",
   "execution_count": 24,
   "metadata": {
    "scrolled": false
   },
   "outputs": [],
   "source": [
    "from tensorflow.keras.callbacks import EarlyStopping,ModelCheckpoint\n",
    "\n",
    "# 训练LSTM深度神经网络\n",
    "epochs = 60 # 定义迭代次数\n",
    "checkpoint_LSTM = ModelCheckpoint('best_model_LSTM.h5', monitor='val_loss', verbose=True, save_best_only=True)\n",
    "checkpoint_GRU = ModelCheckpoint('best_model_GRU.h5', monitor='val_loss', verbose=True, save_best_only=True)\n",
    "# 提前终止，防止过拟合\n",
    "early_stop = EarlyStopping(monitor='val_accuracy', patience=10)"
   ]
  },
  {
   "cell_type": "code",
   "execution_count": 25,
   "metadata": {},
   "outputs": [
    {
     "name": "stdout",
     "output_type": "stream",
     "text": [
      "Train on 105 samples, validate on 27 samples\n",
      "Epoch 1/60\n",
      " 64/105 [=================>............] - ETA: 5s - loss: 1.6112 - accuracy: 0.1250\n",
      "Epoch 00001: val_loss improved from inf to 1.60994, saving model to best_model_LSTM.h5\n",
      "105/105 [==============================] - 11s 104ms/sample - loss: 1.5922 - accuracy: 0.2381 - val_loss: 1.6099 - val_accuracy: 0.2222\n",
      "Epoch 2/60\n",
      " 64/105 [=================>............] - ETA: 0s - loss: 1.5639 - accuracy: 0.3125\n",
      "Epoch 00002: val_loss did not improve from 1.60994\n",
      "105/105 [==============================] - 0s 3ms/sample - loss: 1.5604 - accuracy: 0.3238 - val_loss: 1.6540 - val_accuracy: 0.1852\n",
      "Epoch 3/60\n",
      " 64/105 [=================>............] - ETA: 0s - loss: 1.4770 - accuracy: 0.3750\n",
      "Epoch 00003: val_loss improved from 1.60994 to 1.50972, saving model to best_model_LSTM.h5\n",
      "105/105 [==============================] - 0s 4ms/sample - loss: 1.4835 - accuracy: 0.3714 - val_loss: 1.5097 - val_accuracy: 0.4074\n",
      "Epoch 4/60\n",
      " 64/105 [=================>............] - ETA: 0s - loss: 1.3520 - accuracy: 0.6250\n",
      "Epoch 00004: val_loss improved from 1.50972 to 1.39237, saving model to best_model_LSTM.h5\n",
      "105/105 [==============================] - 0s 3ms/sample - loss: 1.3627 - accuracy: 0.6000 - val_loss: 1.3924 - val_accuracy: 0.5926\n",
      "Epoch 5/60\n",
      " 64/105 [=================>............] - ETA: 0s - loss: 1.2407 - accuracy: 0.7188\n",
      "Epoch 00005: val_loss did not improve from 1.39237\n",
      "105/105 [==============================] - 0s 3ms/sample - loss: 1.2457 - accuracy: 0.7143 - val_loss: 1.4564 - val_accuracy: 0.4074\n",
      "Epoch 6/60\n",
      " 64/105 [=================>............] - ETA: 0s - loss: 1.2299 - accuracy: 0.6719\n",
      "Epoch 00006: val_loss improved from 1.39237 to 1.29553, saving model to best_model_LSTM.h5\n",
      "105/105 [==============================] - 0s 3ms/sample - loss: 1.2170 - accuracy: 0.7048 - val_loss: 1.2955 - val_accuracy: 0.5556\n",
      "Epoch 7/60\n",
      " 64/105 [=================>............] - ETA: 0s - loss: 1.0828 - accuracy: 0.8750\n",
      "Epoch 00007: val_loss improved from 1.29553 to 1.26797, saving model to best_model_LSTM.h5\n",
      "105/105 [==============================] - 0s 3ms/sample - loss: 1.0748 - accuracy: 0.8857 - val_loss: 1.2680 - val_accuracy: 0.6296\n",
      "Epoch 8/60\n",
      " 64/105 [=================>............] - ETA: 0s - loss: 1.0717 - accuracy: 0.8594\n",
      "Epoch 00008: val_loss improved from 1.26797 to 1.20563, saving model to best_model_LSTM.h5\n",
      "105/105 [==============================] - 0s 3ms/sample - loss: 1.0437 - accuracy: 0.8762 - val_loss: 1.2056 - val_accuracy: 0.6667\n",
      "Epoch 9/60\n",
      " 64/105 [=================>............] - ETA: 0s - loss: 0.9785 - accuracy: 0.9531\n",
      "Epoch 00009: val_loss improved from 1.20563 to 1.19117, saving model to best_model_LSTM.h5\n",
      "105/105 [==============================] - 0s 3ms/sample - loss: 0.9781 - accuracy: 0.9619 - val_loss: 1.1912 - val_accuracy: 0.7037\n",
      "Epoch 10/60\n",
      " 64/105 [=================>............] - ETA: 0s - loss: 0.9495 - accuracy: 0.9531\n",
      "Epoch 00010: val_loss improved from 1.19117 to 1.18732, saving model to best_model_LSTM.h5\n",
      "105/105 [==============================] - 0s 3ms/sample - loss: 0.9347 - accuracy: 0.9714 - val_loss: 1.1873 - val_accuracy: 0.7037\n",
      "Epoch 11/60\n",
      " 64/105 [=================>............] - ETA: 0s - loss: 0.9542 - accuracy: 0.9531\n",
      "Epoch 00011: val_loss improved from 1.18732 to 1.17648, saving model to best_model_LSTM.h5\n",
      "105/105 [==============================] - 0s 3ms/sample - loss: 0.9419 - accuracy: 0.9619 - val_loss: 1.1765 - val_accuracy: 0.7407\n",
      "Epoch 12/60\n",
      " 64/105 [=================>............] - ETA: 0s - loss: 0.9232 - accuracy: 0.9844\n",
      "Epoch 00012: val_loss did not improve from 1.17648\n",
      "105/105 [==============================] - 0s 3ms/sample - loss: 0.9262 - accuracy: 0.9810 - val_loss: 1.2238 - val_accuracy: 0.7037\n",
      "Epoch 13/60\n",
      " 64/105 [=================>............] - ETA: 0s - loss: 0.9323 - accuracy: 0.9688\n",
      "Epoch 00013: val_loss did not improve from 1.17648\n",
      "105/105 [==============================] - 0s 3ms/sample - loss: 0.9224 - accuracy: 0.9810 - val_loss: 1.2125 - val_accuracy: 0.7037\n",
      "Epoch 14/60\n",
      " 64/105 [=================>............] - ETA: 0s - loss: 0.9230 - accuracy: 0.9844\n",
      "Epoch 00014: val_loss did not improve from 1.17648\n",
      "105/105 [==============================] - 0s 3ms/sample - loss: 0.9280 - accuracy: 0.9810 - val_loss: 1.2283 - val_accuracy: 0.6667\n",
      "Epoch 15/60\n",
      " 64/105 [=================>............] - ETA: 0s - loss: 0.9335 - accuracy: 0.9688\n",
      "Epoch 00015: val_loss did not improve from 1.17648\n",
      "105/105 [==============================] - 0s 5ms/sample - loss: 0.9322 - accuracy: 0.9714 - val_loss: 1.2265 - val_accuracy: 0.6667\n",
      "Epoch 16/60\n",
      " 64/105 [=================>............] - ETA: 0s - loss: 0.9223 - accuracy: 0.9844\n",
      "Epoch 00016: val_loss improved from 1.17648 to 1.13681, saving model to best_model_LSTM.h5\n",
      "105/105 [==============================] - 0s 5ms/sample - loss: 0.9308 - accuracy: 0.9714 - val_loss: 1.1368 - val_accuracy: 0.7778\n",
      "Epoch 17/60\n",
      " 64/105 [=================>............] - ETA: 0s - loss: 0.9093 - accuracy: 1.0000\n",
      "Epoch 00017: val_loss improved from 1.13681 to 1.04589, saving model to best_model_LSTM.h5\n",
      "105/105 [==============================] - 0s 4ms/sample - loss: 0.9267 - accuracy: 0.9810 - val_loss: 1.0459 - val_accuracy: 0.8519\n",
      "Epoch 18/60\n",
      " 64/105 [=================>............] - ETA: 0s - loss: 0.9181 - accuracy: 1.0000\n",
      "Epoch 00018: val_loss improved from 1.04589 to 0.98652, saving model to best_model_LSTM.h5\n",
      "105/105 [==============================] - 0s 4ms/sample - loss: 0.9149 - accuracy: 1.0000 - val_loss: 0.9865 - val_accuracy: 0.9259\n",
      "Epoch 19/60\n",
      " 64/105 [=================>............] - ETA: 0s - loss: 0.9075 - accuracy: 1.0000\n",
      "Epoch 00019: val_loss improved from 0.98652 to 0.97183, saving model to best_model_LSTM.h5\n",
      "105/105 [==============================] - 0s 4ms/sample - loss: 0.9072 - accuracy: 1.0000 - val_loss: 0.9718 - val_accuracy: 0.9259\n",
      "Epoch 20/60\n",
      " 64/105 [=================>............] - ETA: 0s - loss: 0.9073 - accuracy: 1.0000\n",
      "Epoch 00020: val_loss did not improve from 0.97183\n",
      "105/105 [==============================] - 0s 4ms/sample - loss: 0.9068 - accuracy: 1.0000 - val_loss: 1.0012 - val_accuracy: 0.9259\n",
      "Epoch 21/60\n",
      " 64/105 [=================>............] - ETA: 0s - loss: 0.9053 - accuracy: 1.0000\n",
      "Epoch 00021: val_loss did not improve from 0.97183\n",
      "105/105 [==============================] - 0s 3ms/sample - loss: 0.9052 - accuracy: 1.0000 - val_loss: 1.0443 - val_accuracy: 0.8519\n",
      "Epoch 22/60\n",
      " 64/105 [=================>............] - ETA: 0s - loss: 0.9052 - accuracy: 1.0000\n",
      "Epoch 00022: val_loss did not improve from 0.97183\n",
      "105/105 [==============================] - 0s 3ms/sample - loss: 0.9051 - accuracy: 1.0000 - val_loss: 1.0533 - val_accuracy: 0.8519\n",
      "Epoch 23/60\n",
      " 64/105 [=================>............] - ETA: 0s - loss: 0.9053 - accuracy: 1.0000\n",
      "Epoch 00023: val_loss did not improve from 0.97183\n",
      "105/105 [==============================] - 0s 3ms/sample - loss: 0.9052 - accuracy: 1.0000 - val_loss: 1.0608 - val_accuracy: 0.8519\n",
      "Epoch 24/60\n",
      " 64/105 [=================>............] - ETA: 0s - loss: 0.9151 - accuracy: 1.0000\n",
      "Epoch 00024: val_loss did not improve from 0.97183\n",
      "105/105 [==============================] - 0s 2ms/sample - loss: 0.9112 - accuracy: 1.0000 - val_loss: 1.1300 - val_accuracy: 0.7778\n",
      "Epoch 25/60\n",
      " 64/105 [=================>............] - ETA: 0s - loss: 0.9052 - accuracy: 1.0000\n",
      "Epoch 00025: val_loss did not improve from 0.97183\n",
      "105/105 [==============================] - 0s 2ms/sample - loss: 0.9159 - accuracy: 0.9905 - val_loss: 1.1394 - val_accuracy: 0.7407\n",
      "Epoch 26/60\n",
      " 64/105 [=================>............] - ETA: 0s - loss: 0.9064 - accuracy: 1.0000\n",
      "Epoch 00026: val_loss did not improve from 0.97183\n",
      "105/105 [==============================] - 0s 3ms/sample - loss: 0.9059 - accuracy: 1.0000 - val_loss: 1.0687 - val_accuracy: 0.8519\n",
      "Epoch 27/60\n",
      " 64/105 [=================>............] - ETA: 0s - loss: 0.9051 - accuracy: 1.0000\n",
      "Epoch 00027: val_loss did not improve from 0.97183\n",
      "105/105 [==============================] - 0s 3ms/sample - loss: 0.9147 - accuracy: 0.9905 - val_loss: 1.0571 - val_accuracy: 0.8519\n",
      "Epoch 28/60\n"
     ]
    },
    {
     "name": "stdout",
     "output_type": "stream",
     "text": [
      " 64/105 [=================>............] - ETA: 0s - loss: 0.9066 - accuracy: 1.0000\n",
      "Epoch 00028: val_loss did not improve from 0.97183\n",
      "\b\b\b\b\b\b\b\b\b\b\b\b\b\b\b\b\b\b\b\b\b\b\b\b\b\b\b\b\b\b\b\b\b\b\b\b\b\b\b\b\b\b\b\b\b\b\b\b\b\b\b\b\b\b\b\b\b\b\b\b\b\b\b\b\b\b\b\b\b\b\b\b\b\b\b\b\b\b\b\b\b\b\b\b\r",
      "105/105 [==============================] - 0s 3ms/sample - loss: 0.9061 - accuracy: 1.0000 - val_loss: 1.1104 - val_accuracy: 0.7778\n"
     ]
    }
   ],
   "source": [
    "# 训练LSTM模型\n",
    "hist_LSTM = model_LSTM.fit(train_embed, # 训练数据词向量特征\n",
    "                           train_y_one_hot, # 训练数据one-hot编码\n",
    "                           epochs=epochs, # 迭代次数\n",
    "                           batch_size=64, # 批量\n",
    "                           shuffle=True, # 是否随机打乱\n",
    "                           validation_split=0.2, # 验证集划分比例\n",
    "                           callbacks=[early_stop, checkpoint_LSTM] # 加入early_stop和checkpoint\n",
    "                          )\n",
    "model_LSTM.save_weights('/Users/xujie/Desktop/Python/nlp/项目/表情符号预测')"
   ]
  },
  {
   "cell_type": "code",
   "execution_count": 26,
   "metadata": {},
   "outputs": [
    {
     "name": "stdout",
     "output_type": "stream",
     "text": [
      "Train on 105 samples, validate on 27 samples\n",
      "Epoch 1/60\n",
      " 64/105 [=================>............] - ETA: 7s - loss: 1.6060 - accuracy: 0.2812\n",
      "Epoch 00001: val_loss improved from inf to 1.61720, saving model to best_model_GRU.h5\n",
      "105/105 [==============================] - 13s 128ms/sample - loss: 1.5965 - accuracy: 0.2952 - val_loss: 1.6172 - val_accuracy: 0.2222\n",
      "Epoch 2/60\n",
      " 64/105 [=================>............] - ETA: 0s - loss: 1.5020 - accuracy: 0.3594\n",
      "Epoch 00002: val_loss did not improve from 1.61720\n",
      "105/105 [==============================] - 0s 3ms/sample - loss: 1.5418 - accuracy: 0.2857 - val_loss: 1.6451 - val_accuracy: 0.1852\n",
      "Epoch 3/60\n",
      " 64/105 [=================>............] - ETA: 0s - loss: 1.5702 - accuracy: 0.2656\n",
      "Epoch 00003: val_loss improved from 1.61720 to 1.51836, saving model to best_model_GRU.h5\n",
      "105/105 [==============================] - 0s 3ms/sample - loss: 1.5465 - accuracy: 0.3143 - val_loss: 1.5184 - val_accuracy: 0.3333\n",
      "Epoch 4/60\n",
      " 64/105 [=================>............] - ETA: 0s - loss: 1.4447 - accuracy: 0.4531\n",
      "Epoch 00004: val_loss improved from 1.51836 to 1.38592, saving model to best_model_GRU.h5\n",
      "105/105 [==============================] - 1s 6ms/sample - loss: 1.4292 - accuracy: 0.5238 - val_loss: 1.3859 - val_accuracy: 0.5556\n",
      "Epoch 5/60\n",
      " 64/105 [=================>............] - ETA: 0s - loss: 1.2958 - accuracy: 0.7031\n",
      "Epoch 00005: val_loss improved from 1.38592 to 1.28291, saving model to best_model_GRU.h5\n",
      "105/105 [==============================] - 1s 5ms/sample - loss: 1.2660 - accuracy: 0.7238 - val_loss: 1.2829 - val_accuracy: 0.6667\n",
      "Epoch 6/60\n",
      " 64/105 [=================>............] - ETA: 0s - loss: 1.1795 - accuracy: 0.7188\n",
      "Epoch 00006: val_loss improved from 1.28291 to 1.21995, saving model to best_model_GRU.h5\n",
      "105/105 [==============================] - 1s 6ms/sample - loss: 1.1719 - accuracy: 0.7524 - val_loss: 1.2200 - val_accuracy: 0.7778\n",
      "Epoch 7/60\n",
      " 64/105 [=================>............] - ETA: 0s - loss: 1.0608 - accuracy: 0.8281\n",
      "Epoch 00007: val_loss improved from 1.21995 to 1.15915, saving model to best_model_GRU.h5\n",
      "105/105 [==============================] - 0s 5ms/sample - loss: 1.0694 - accuracy: 0.8381 - val_loss: 1.1591 - val_accuracy: 0.8148\n",
      "Epoch 8/60\n",
      " 64/105 [=================>............] - ETA: 0s - loss: 1.0278 - accuracy: 0.9062\n",
      "Epoch 00008: val_loss did not improve from 1.15915\n",
      "105/105 [==============================] - 0s 3ms/sample - loss: 0.9967 - accuracy: 0.9333 - val_loss: 1.1711 - val_accuracy: 0.7778\n",
      "Epoch 9/60\n",
      " 64/105 [=================>............] - ETA: 0s - loss: 1.0274 - accuracy: 0.8906\n",
      "Epoch 00009: val_loss improved from 1.15915 to 1.14291, saving model to best_model_GRU.h5\n",
      "105/105 [==============================] - 0s 3ms/sample - loss: 0.9935 - accuracy: 0.9238 - val_loss: 1.1429 - val_accuracy: 0.7778\n",
      "Epoch 10/60\n",
      " 64/105 [=================>............] - ETA: 0s - loss: 0.9382 - accuracy: 0.9688\n",
      "Epoch 00010: val_loss did not improve from 1.14291\n",
      "105/105 [==============================] - 0s 3ms/sample - loss: 0.9512 - accuracy: 0.9524 - val_loss: 1.1959 - val_accuracy: 0.7037\n",
      "Epoch 11/60\n",
      " 64/105 [=================>............] - ETA: 0s - loss: 0.9834 - accuracy: 0.9062\n",
      "Epoch 00011: val_loss did not improve from 1.14291\n",
      "105/105 [==============================] - 0s 2ms/sample - loss: 0.9620 - accuracy: 0.9333 - val_loss: 1.1553 - val_accuracy: 0.7407\n",
      "Epoch 12/60\n",
      " 64/105 [=================>............] - ETA: 0s - loss: 0.9396 - accuracy: 0.9688\n",
      "Epoch 00012: val_loss did not improve from 1.14291\n",
      "105/105 [==============================] - 0s 3ms/sample - loss: 0.9620 - accuracy: 0.9429 - val_loss: 1.1617 - val_accuracy: 0.7407\n",
      "Epoch 13/60\n",
      " 64/105 [=================>............] - ETA: 0s - loss: 0.9788 - accuracy: 0.9219\n",
      "Epoch 00013: val_loss did not improve from 1.14291\n",
      "105/105 [==============================] - 0s 3ms/sample - loss: 0.9767 - accuracy: 0.9333 - val_loss: 1.1494 - val_accuracy: 0.7778\n",
      "Epoch 14/60\n",
      " 64/105 [=================>............] - ETA: 0s - loss: 0.9374 - accuracy: 0.9688\n",
      "Epoch 00014: val_loss did not improve from 1.14291\n",
      "105/105 [==============================] - 0s 3ms/sample - loss: 0.9340 - accuracy: 0.9714 - val_loss: 1.1731 - val_accuracy: 0.7407\n",
      "Epoch 15/60\n",
      " 64/105 [=================>............] - ETA: 0s - loss: 0.9215 - accuracy: 0.9844\n",
      "Epoch 00015: val_loss did not improve from 1.14291\n",
      "105/105 [==============================] - 0s 3ms/sample - loss: 0.9343 - accuracy: 0.9714 - val_loss: 1.1562 - val_accuracy: 0.7407\n",
      "Epoch 16/60\n",
      " 64/105 [=================>............] - ETA: 0s - loss: 0.9374 - accuracy: 0.9688\n",
      "Epoch 00016: val_loss did not improve from 1.14291\n",
      "105/105 [==============================] - 0s 3ms/sample - loss: 0.9250 - accuracy: 0.9810 - val_loss: 1.1714 - val_accuracy: 0.7037\n",
      "Epoch 17/60\n",
      " 64/105 [=================>............] - ETA: 0s - loss: 0.9364 - accuracy: 0.9688\n",
      "Epoch 00017: val_loss did not improve from 1.14291\n",
      "105/105 [==============================] - 0s 4ms/sample - loss: 0.9258 - accuracy: 0.9810 - val_loss: 1.1623 - val_accuracy: 0.7407\n"
     ]
    }
   ],
   "source": [
    "# 训练GRU深度神经网络\n",
    "hist_GRU = model_GRU.fit(train_embed, # 训练数据词向量特征\n",
    "                         train_y_one_hot, # 训练数据one-hot编码\n",
    "                         epochs=epochs, # 迭代次数\n",
    "                         batch_size=64, # 批量\n",
    "                         shuffle=True, # 是否随机打乱\n",
    "                         validation_split=0.2, # 验证集划分比例\n",
    "                         callbacks=[early_stop, checkpoint_GRU] # 加入early_stop和checkpoint\n",
    "                        )\n",
    "model_GRU.save_weights('/Users/xujie/Desktop/Python/nlp/项目/表情符号预测')"
   ]
  },
  {
   "cell_type": "code",
   "execution_count": 13,
   "metadata": {},
   "outputs": [],
   "source": [
    "import seaborn as sns\n",
    "import matplotlib.pyplot as plt\n",
    "from sklearn.metrics import confusion_matrix, classification_report\n",
    "\n",
    "# 定义对预测结果进行评估的函数report_results() \n",
    "\n",
    "# 评估内容包括: precision recall F1-score\n",
    "def report_results(test_y, pred, method=''):\n",
    "    # 计算混淆矩阵\n",
    "    confm = confusion_matrix(test_y, pred)\n",
    "    # 对混淆矩阵进行可视化\n",
    "    plt.figure(figsize=(8,8))\n",
    "    sns.heatmap(confm.T, square=True, annot=True, fmt='d', cbar=False)\n",
    "    plt.xlabel('True Label')\n",
    "    plt.ylabel('Predicr Label')\n",
    "    plt.title(method+' '+'Confusion Matrix')\n",
    "    plt.show()\n",
    "    # print分类precision recall 和 F-1 Score的报告\n",
    "    print(method+' '+'Classification Report：', '\\n', classification_report(test_y, pred))\n",
    "    return"
   ]
  },
  {
   "cell_type": "code",
   "execution_count": 27,
   "metadata": {},
   "outputs": [
    {
     "data": {
      "image/png": "[encoded data removed]",
      "text/plain": [
       "<Figure size 576x576 with 1 Axes>"
      ]
     },
     "metadata": {
      "needs_background": "light"
     },
     "output_type": "display_data"
    },
    {
     "name": "stdout",
     "output_type": "stream",
     "text": [
      "LSTM Classification Report： \n",
      "               precision    recall  f1-score   support\n",
      "\n",
      "           0       1.00      0.33      0.50        12\n",
      "           1       1.00      0.80      0.89         5\n",
      "           2       0.70      0.89      0.78        18\n",
      "           3       0.68      0.87      0.76        15\n",
      "           4       0.83      0.83      0.83         6\n",
      "\n",
      "    accuracy                           0.75        56\n",
      "   macro avg       0.84      0.74      0.75        56\n",
      "weighted avg       0.80      0.75      0.73        56\n",
      "\n"
     ]
    }
   ],
   "source": [
    "# 在测试集上对LSTM模型进行预测\n",
    "pred_LSTM = model_LSTM.predict_classes(test_embed)\n",
    "\n",
    "# 评估模型\n",
    "report_results(test_y, pred_LSTM, method='LSTM')"
   ]
  },
  {
   "cell_type": "code",
   "execution_count": 15,
   "metadata": {},
   "outputs": [
    {
     "data": {
      "image/png": "[encoded data removed]",
      "text/plain": [
       "<Figure size 576x576 with 1 Axes>"
      ]
     },
     "metadata": {
      "needs_background": "light"
     },
     "output_type": "display_data"
    },
    {
     "name": "stdout",
     "output_type": "stream",
     "text": [
      "GRU Classification Report： \n",
      "               precision    recall  f1-score   support\n",
      "\n",
      "           0       0.57      0.33      0.42        12\n",
      "           1       1.00      0.80      0.89         5\n",
      "           2       0.85      0.61      0.71        18\n",
      "           3       0.52      0.80      0.63        15\n",
      "           4       0.67      1.00      0.80         6\n",
      "\n",
      "    accuracy                           0.66        56\n",
      "   macro avg       0.72      0.71      0.69        56\n",
      "weighted avg       0.69      0.66      0.65        56\n",
      "\n"
     ]
    }
   ],
   "source": [
    "# 在测试集上对GRU模型进行预测\n",
    "pred_GRU = model_GRU.predict_classes(test_embed)\n",
    "\n",
    "# 评估模型\n",
    "report_results(test_y, pred_GRU, method='GRU')"
   ]
  },
  {
   "cell_type": "code",
   "execution_count": 28,
   "metadata": {},
   "outputs": [
    {
     "name": "stdout",
     "output_type": "stream",
     "text": [
      "text: I want to eat\t predict_LSTM: 🍴 predict_GRU: 🍴 true: 🍴\n",
      "text: he did not answer\t predict_LSTM: 😓 predict_GRU: 😓 true: 😓\n",
      "text: he got a raise\t predict_LSTM: 😃 predict_GRU: 😓 true: 😃\n",
      "text: she got me a present\t predict_LSTM: 😃 predict_GRU: 😓 true: 🧡\n",
      "text: ha ha ha it was so funny\t predict_LSTM: 😃 predict_GRU: 😃 true: 😃\n",
      "text: he is a good friend\t predict_LSTM: 😃 predict_GRU: 🧡 true: 🧡\n",
      "text: I am upset\t predict_LSTM: 😓 predict_GRU: 😓 true: 🧡\n",
      "text: We had such a lovely dinner tonight\t predict_LSTM: 😃 predict_GRU: 🍴 true: 🧡\n",
      "text: where is the food\t predict_LSTM: 🍴 predict_GRU: 🍴 true: 🍴\n",
      "text: Stop making this joke ha ha ha\t predict_LSTM: 😃 predict_GRU: 😃 true: 😃\n",
      "text: where is the ball\t predict_LSTM: ⚾ predict_GRU: ⚾ true: ⚾\n",
      "text: work is hard\t predict_LSTM: 😓 predict_GRU: 😓 true: 😓\n",
      "text: This girl is messing with me\t predict_LSTM: 😓 predict_GRU: 😓 true: 😓\n",
      "text: are you serious ha ha\t predict_LSTM: 😃 predict_GRU: 😃 true: 😃\n",
      "text: Let us go play baseball\t predict_LSTM: ⚾ predict_GRU: ⚾ true: ⚾\n",
      "text: This stupid grader is not working \t predict_LSTM: 😓 predict_GRU: 😓 true: 😓\n",
      "text: work is horrible\t predict_LSTM: 😓 predict_GRU: 😓 true: 😓\n",
      "text: Congratulation for having a baby\t predict_LSTM: 😃 predict_GRU: 🧡 true: 😃\n",
      "text: stop messing around\t predict_LSTM: 😓 predict_GRU: 😓 true: 😓\n",
      "text: any suggestions for dinner\t predict_LSTM: 🍴 predict_GRU: 🍴 true: 🍴\n",
      "text: I love taking breaks\t predict_LSTM: 😓 predict_GRU: 🧡 true: 🧡\n",
      "text: you brighten my day\t predict_LSTM: 😓 predict_GRU: 😓 true: 😃\n",
      "text: I boiled rice\t predict_LSTM: 🍴 predict_GRU: 🍴 true: 🍴\n",
      "text: she is a bully\t predict_LSTM: 😓 predict_GRU: 🧡 true: 😓\n",
      "text: Why are you feeling bad\t predict_LSTM: 😓 predict_GRU: 😓 true: 😓\n",
      "text: I am upset\t predict_LSTM: 😓 predict_GRU: 😓 true: 😓\n",
      "text: I worked during my birthday\t predict_LSTM: 😃 predict_GRU: 😃 true: 😓\n",
      "text: My grandmother is the love of my life\t predict_LSTM: 🧡 predict_GRU: 😓 true: 🧡\n",
      "text: enjoy your break\t predict_LSTM: 😃 predict_GRU: 🍴 true: 😃\n",
      "text: valentine day is near\t predict_LSTM: 😃 predict_GRU: 😃 true: 🧡\n",
      "text: I miss you so much\t predict_LSTM: 🧡 predict_GRU: 🧡 true: 🧡\n",
      "text: throw the ball\t predict_LSTM: ⚾ predict_GRU: ⚾ true: ⚾\n",
      "text: My life is so boring\t predict_LSTM: 😓 predict_GRU: 😓 true: 😓\n",
      "text: she said yes\t predict_LSTM: 😃 predict_GRU: 😃 true: 😃\n",
      "text: will you be my valentine\t predict_LSTM: 😓 predict_GRU: 😓 true: 🧡\n",
      "text: he can pitch really well\t predict_LSTM: 😃 predict_GRU: 😓 true: ⚾\n",
      "text: dance with me\t predict_LSTM: 😃 predict_GRU: 😓 true: 😃\n",
      "text: I am starving\t predict_LSTM: 😓 predict_GRU: 🍴 true: 🍴\n",
      "text: See you at the restaurant\t predict_LSTM: 🍴 predict_GRU: 🍴 true: 🍴\n",
      "text: I like to laugh\t predict_LSTM: 😃 predict_GRU: 😃 true: 😃\n",
      "text: I will go dance predict_LSTM: 😃 predict_GRU: 😓 true: 😃\n",
      "text: I like your jacket \t predict_LSTM: 😓 predict_GRU: 🧡 true: 😃\n",
      "text: i miss her\t predict_LSTM: 🧡 predict_GRU: 🧡 true: 🧡\n",
      "text: what is your favorite baseball game\t predict_LSTM: ⚾ predict_GRU: ⚾ true: ⚾\n",
      "text: Good job\t predict_LSTM: 😃 predict_GRU: 😃 true: 😃\n",
      "text: I love to the stars and back\t predict_LSTM: 🧡 predict_GRU: 😓 true: 🧡\n",
      "text: What you did was awesome\t predict_LSTM: 😃 predict_GRU: 😃 true: 😃\n",
      "text: ha ha ha lol\t predict_LSTM: 😃 predict_GRU: 😃 true: 😃\n",
      "text: I want to joke\t predict_LSTM: 😃 predict_GRU: 😃 true: 😃\n",
      "text: go away\t predict_LSTM: 😓 predict_GRU: 😓 true: 😓\n",
      "text: yesterday we lost again\t predict_LSTM: 😓 predict_GRU: 😓 true: 😓\n",
      "text: family is all I have\t predict_LSTM: 😃 predict_GRU: 😓 true: 🧡\n",
      "text: you are failing this exercise\t predict_LSTM: 😓 predict_GRU: 😓 true: 😓\n",
      "text: Good joke\t predict_LSTM: 😃 predict_GRU: 😃 true: 😃\n",
      "text: You totally deserve this prize\t predict_LSTM: 😃 predict_GRU: 😃 true: 😃\n",
      "text: I did not have breakfast  predict_LSTM: 🍴 predict_GRU: 🍴 true: 😓\n"
     ]
    }
   ],
   "source": [
    "# 输出LSTM和GRU深度神经网络预测的结果\n",
    "for i in range(test_X.shape[0]):\n",
    "    print('text:', test_X[i],  \n",
    "          'predict_LSTM:', emoji.emojize(emoji_dic[pred_LSTM[i]]),\n",
    "          'predict_GRU:', emoji.emojize(emoji_dic[pred_GRU[i]]), \n",
    "          'true:', emoji.emojize(emoji_dic[test_y[i]]))"
   ]
  },
  {
   "cell_type": "code",
   "execution_count": null,
   "metadata": {},
   "outputs": [],
   "source": []
  }
 ],
 "metadata": {
  "kernelspec": {
   "display_name": "Python 3",
   "language": "python",
   "name": "python3"
  },
  "language_info": {
   "codemirror_mode": {
    "name": "ipython",
    "version": 3
   },
   "file_extension": ".py",
   "mimetype": "text/x-python",
   "name": "python",
   "nbconvert_exporter": "python",
   "pygments_lexer": "ipython3",
   "version": "3.7.4"
  }
 },
 "nbformat": 4,
 "nbformat_minor": 2
}
